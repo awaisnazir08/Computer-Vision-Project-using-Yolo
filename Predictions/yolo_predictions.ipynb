{
 "cells": [
  {
   "cell_type": "code",
   "execution_count": 2,
   "metadata": {},
   "outputs": [],
   "source": [
    "import cv2\n",
    "import numpy as np\n",
    "import pandas as pd\n",
    "import matplotlib.pyplot as plt\n",
    "import yaml\n",
    "from yaml.loader import SafeLoader"
   ]
  },
  {
   "cell_type": "code",
   "execution_count": 3,
   "metadata": {},
   "outputs": [
    {
     "name": "stdout",
     "output_type": "stream",
     "text": [
      "['person', 'car', 'chair', 'bottle', 'pottedplant', 'bird', 'dog', 'sofa', 'bicycle', 'horse', 'boat', 'motorbike', 'cat', 'tvmonitor', 'cow', 'sheep', 'aeroplane', 'train', 'diningtable', 'bus']\n"
     ]
    }
   ],
   "source": [
    "#Load YAML\n",
    "with open('D:\\VS Code Folders\\yolo_object_detection\\project_data\\data.yaml', mode = 'r') as f:\n",
    "    data_yaml = yaml.load(f, Loader=SafeLoader)\n",
    "\n",
    "labels = data_yaml['names']\n",
    "print(labels)"
   ]
  },
  {
   "cell_type": "code",
   "execution_count": 58,
   "metadata": {},
   "outputs": [],
   "source": [
    "#Load YOLO Model\n",
    "# yolo = cv2.dnn.readNetFromONNX('D:\\VS Code Folders\\yolo_object_detection\\project_data\\Predictions\\Model\\weights\\\\best.onnx')\n",
    "yolo = cv2.dnn.readNetFromONNX('D:\\VS Code Folders\\yolo_object_detection\\project_data\\Predictions\\\\best.onnx')\n",
    "\n",
    "yolo.setPreferableBackend(cv2.dnn.DNN_BACKEND_OPENCV)\n",
    "yolo.setPreferableTarget(cv2.dnn.DNN_TARGET_CPU)"
   ]
  },
  {
   "cell_type": "code",
   "execution_count": 59,
   "metadata": {},
   "outputs": [
    {
     "name": "stdout",
     "output_type": "stream",
     "text": [
      "[[[7.1517906e+00 7.0349331e+00 1.8322186e+01 ... 1.7848587e-02\n",
      "   1.0487824e-02 4.4674468e-03]\n",
      "  [1.2873139e+01 7.0905561e+00 2.6213982e+01 ... 1.5823033e-02\n",
      "   7.7466178e-03 3.5897593e-03]\n",
      "  [1.5632057e+01 6.5042257e+00 3.0206371e+01 ... 1.7381055e-02\n",
      "   6.8005715e-03 3.6356170e-03]\n",
      "  ...\n",
      "  [5.5927148e+02 6.0042303e+02 1.7045221e+02 ... 2.9167563e-02\n",
      "   3.5169490e-02 3.3729196e-02]\n",
      "  [5.8181616e+02 6.0239252e+02 1.2825560e+02 ... 2.8365953e-02\n",
      "   3.9702941e-02 4.1821588e-02]\n",
      "  [6.1077734e+02 6.1062927e+02 1.4412991e+02 ... 4.7919326e-02\n",
      "   6.5008715e-02 6.9904588e-02]]]\n"
     ]
    }
   ],
   "source": [
    "#Load the image\n",
    "img = cv2.imread('D:\\VS Code Folders\\yolo_object_detection\\project_data\\Predictions\\street_image.jpg')\n",
    "image = img.copy()\n",
    "image = cv2.resize(image, (1200, 600))  # Adjust the dimensions as needed\n",
    "# cv2.imshow('image', image)\n",
    "# cv2.waitKey(0)\n",
    "# cv2.destroyAllWindows()\n",
    "row, col, d = image.shape\n",
    "\n",
    "# get the YOLO prediction from the image\n",
    "# step 1: convert image into square image (array)\n",
    "max_rc = max(row, col)\n",
    "input_image = np.zeros((max_rc, max_rc, 3), dtype = np.uint8)\n",
    "input_image[0:row, 0:col] = image\n",
    "# cv2.imshow('input_image', input_image)\n",
    "# cv2.waitKey(0)\n",
    "# cv2.destroyAllWindows()\n",
    "# step 2: get predictions from square array\n",
    "INPUT_WH_YOLO = 640\n",
    "blob = cv2.dnn.blobFromImage(input_image, 1/255, (INPUT_WH_YOLO, INPUT_WH_YOLO),swapRB= True, crop = False)\n",
    "yolo.setInput(blob)\n",
    "preds = yolo.forward() # detections or predictions from YOLO\n",
    "print(preds)\n"
   ]
  },
  {
   "cell_type": "code",
   "execution_count": 60,
   "metadata": {},
   "outputs": [
    {
     "name": "stdout",
     "output_type": "stream",
     "text": [
      "(1, 25200, 25)\n"
     ]
    }
   ],
   "source": [
    "print(preds.shape)"
   ]
  },
  {
   "cell_type": "code",
   "execution_count": 61,
   "metadata": {},
   "outputs": [],
   "source": [
    "# Non Maximum Supression filter\n",
    "# primary goal is to remove duplicate bounding boxes and only keep those bounding boxes that have the highest confidence score\n",
    "#step 1: filter detection based on confidence (0.4) and probability score (0.25)\n",
    "detections = preds[0]\n",
    "boxes = []\n",
    "confidences = []\n",
    "classes = []\n",
    "\n",
    "# width and height of the image (input_image)\n",
    "input_w, input_h = input_image.shape[:2]\n",
    "x_factor = input_w/INPUT_WH_YOLO\n",
    "y_factor = input_h/INPUT_WH_YOLO\n",
    "\n",
    "for i in range(len(detections)):\n",
    "    row =  detections[i]\n",
    "    confidence = row[4] # confidence of detection on object\n",
    "    if confidence > 0.2:\n",
    "        class_score = row[5:].max() # maximum probability from 20 objects\n",
    "        class_id = row[5:].argmax() # get the index position at which max probability occurs\n",
    "        if class_score > 0.25:\n",
    "            cx, cy, w, h = row[0:4]\n",
    "            \n",
    "            # construct bounding from four values\n",
    "            # left, top, width and height\n",
    "            left = int((cx - 0.5*w) * x_factor)\n",
    "            top = int((cy - 0.5*h)*y_factor)\n",
    "            width = int((w * x_factor))\n",
    "            height = int(h* y_factor)\n",
    "            \n",
    "            box = np.array([left, top, width, height])\n",
    "            \n",
    "            #append values into the list\n",
    "            confidences.append(confidence)\n",
    "            boxes.append(box)\n",
    "            classes.append(class_id)\n",
    "#clean        \n",
    "boxes_np = np.array(boxes).tolist()\n",
    "confidences_np = np.array(confidences).tolist()\n",
    "\n",
    "#Non maximum suppression\n",
    "index = cv2.dnn.NMSBoxes(boxes_np, confidences_np, 0.25, 0.45).flatten()"
   ]
  },
  {
   "cell_type": "code",
   "execution_count": 65,
   "metadata": {},
   "outputs": [
    {
     "data": {
      "text/plain": [
       "29"
      ]
     },
     "execution_count": 65,
     "metadata": {},
     "output_type": "execute_result"
    }
   ],
   "source": [
    "len(index)\n"
   ]
  },
  {
   "cell_type": "code",
   "execution_count": 63,
   "metadata": {},
   "outputs": [],
   "source": [
    "# Draw the bounding box\n",
    "for ind in index:\n",
    "    # extract bounding boxes\n",
    "    x, y, w , h = boxes_np[ind]\n",
    "    bb_conf = int(confidences_np[ind]*100)\n",
    "    classes_id = classes[ind]\n",
    "    class_name = labels[classes_id]\n",
    "    \n",
    "    text = f'{class_name}: {bb_conf}%'\n",
    "    cv2.rectangle(image,(x,y),(x+w,y+h),(0,255,0),2)\n",
    "    cv2.rectangle(image,(x,y-30),(x+w,y),(255,255,255),-1)\n",
    "    \n",
    "    cv2.putText(image,text,(x,y-10),cv2.FONT_HERSHEY_PLAIN,0.7,(0,0,0),1)"
   ]
  },
  {
   "cell_type": "code",
   "execution_count": 66,
   "metadata": {},
   "outputs": [],
   "source": [
    "cv2.imshow('original',img)\n",
    "cv2.imshow('yolo_prediction',image)\n",
    "cv2.waitKey(0)\n",
    "cv2.destroyAllWindows()"
   ]
  },
  {
   "cell_type": "code",
   "execution_count": null,
   "metadata": {},
   "outputs": [],
   "source": []
  }
 ],
 "metadata": {
  "kernelspec": {
   "display_name": "Python 3",
   "language": "python",
   "name": "python3"
  },
  "language_info": {
   "codemirror_mode": {
    "name": "ipython",
    "version": 3
   },
   "file_extension": ".py",
   "mimetype": "text/x-python",
   "name": "python",
   "nbconvert_exporter": "python",
   "pygments_lexer": "ipython3",
   "version": "3.11.5"
  }
 },
 "nbformat": 4,
 "nbformat_minor": 2
}
